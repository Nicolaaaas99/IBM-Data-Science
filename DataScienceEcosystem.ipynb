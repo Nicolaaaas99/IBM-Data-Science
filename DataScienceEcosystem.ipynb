{
 "cells": [
  {
   "cell_type": "markdown",
   "id": "42bdf047-6583-4ea7-98bf-87cdeed9347f",
   "metadata": {},
   "source": [
    "# Data Science Tools and Ecosystem"
   ]
  },
  {
   "cell_type": "markdown",
   "id": "89ce3f9c-110b-4960-b6a4-c174766c1e43",
   "metadata": {},
   "source": [
    "## Author\n",
    "NJ Coetzee"
   ]
  },
  {
   "cell_type": "markdown",
   "id": "834cdbc5-c727-403a-a396-026c7c5de06a",
   "metadata": {},
   "source": [
    "In this notebook, Data Science Tools and Ecosystem are summarized."
   ]
  },
  {
   "cell_type": "markdown",
   "id": "ec9ccc1f-e212-4101-8c8f-bd82089c5fad",
   "metadata": {},
   "source": [
    "**Objectives:**\n",
    "+ Languages\n",
    "+ Libraries\n",
    "+ Arithmetic"
   ]
  },
  {
   "cell_type": "markdown",
   "id": "81b5d53f-6552-46ca-b327-db477ad99810",
   "metadata": {},
   "source": [
    "Some of the popular languages that Data Scientists use are:\n",
    "1. Python\n",
    "2. R\n",
    "3. SQL"
   ]
  },
  {
   "cell_type": "markdown",
   "id": "66471d2f-a836-4797-b016-db6d2a9f9980",
   "metadata": {},
   "source": [
    "Some of the commonly used libraries used by Data Scientists include:\n",
    "1. numpy\n",
    "2. pandas\n",
    "3. matplotlib\n",
    "4. ggplot2"
   ]
  },
  {
   "cell_type": "markdown",
   "id": "7ac6cc2a-8675-4e5a-8015-3aee4f605c4c",
   "metadata": {},
   "source": [
    "|Data Science Tools|\n",
    "|-----------------|\n",
    "|Jupyter Notebooks|\n",
    "|R Studio|\n",
    "|GitHub|"
   ]
  },
  {
   "cell_type": "markdown",
   "id": "c5147417-023a-46f0-93f5-9a1fbc738dc9",
   "metadata": {},
   "source": [
    "### Below are a few examples of evaluating arithmetic expressions in Python"
   ]
  },
  {
   "cell_type": "code",
   "execution_count": 1,
   "id": "6af10e26-eab7-41bf-95b7-9019ead0dc8b",
   "metadata": {},
   "outputs": [
    {
     "data": {
      "text/plain": [
       "17"
      ]
     },
     "execution_count": 1,
     "metadata": {},
     "output_type": "execute_result"
    }
   ],
   "source": [
    "# This is a simple arithmetic expression to multiply then add integers\n",
    "(3*4)+5"
   ]
  },
  {
   "cell_type": "code",
   "execution_count": 3,
   "id": "7f77956b-5850-4014-b5ff-76c592a50710",
   "metadata": {},
   "outputs": [
    {
     "name": "stdout",
     "output_type": "stream",
     "text": [
      "200 minutes is equal to 3.3333333333333335 hours\n"
     ]
    }
   ],
   "source": [
    "# This will convert 200 minutes to hours by diving by 60\n",
    "minutes = 200\n",
    "hours = minutes/60\n",
    "print(f\"{minutes} minutes is equal to {hours} hours\")"
   ]
  },
  {
   "cell_type": "code",
   "execution_count": null,
   "id": "b6155326-b44e-41f7-a724-1fee8ba6ae63",
   "metadata": {},
   "outputs": [],
   "source": []
  }
 ],
 "metadata": {
  "kernelspec": {
   "display_name": "Python 3 (ipykernel)",
   "language": "python",
   "name": "python3"
  },
  "language_info": {
   "codemirror_mode": {
    "name": "ipython",
    "version": 3
   },
   "file_extension": ".py",
   "mimetype": "text/x-python",
   "name": "python",
   "nbconvert_exporter": "python",
   "pygments_lexer": "ipython3",
   "version": "3.12.4"
  }
 },
 "nbformat": 4,
 "nbformat_minor": 5
}
